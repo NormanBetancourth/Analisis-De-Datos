{
  "nbformat": 4,
  "nbformat_minor": 0,
  "metadata": {
    "colab": {
      "provenance": [],
      "authorship_tag": "ABX9TyMl5mzt34NBhXrj5b46CovD",
      "include_colab_link": true
    },
    "kernelspec": {
      "name": "python3",
      "display_name": "Python 3"
    },
    "language_info": {
      "name": "python"
    }
  },
  "cells": [
    {
      "cell_type": "markdown",
      "metadata": {
        "id": "view-in-github",
        "colab_type": "text"
      },
      "source": [
        "<a href=\"https://colab.research.google.com/github/NormanBetancourth/Analisis-De-Datos/blob/main/Clase_13_Abril.ipynb\" target=\"_parent\"><img src=\"https://colab.research.google.com/assets/colab-badge.svg\" alt=\"Open In Colab\"/></a>"
      ]
    },
    {
      "cell_type": "code",
      "execution_count": null,
      "metadata": {
        "id": "XmtJFcgwV36P"
      },
      "outputs": [],
      "source": [
        "import pandas as pd\n",
        "students = [(\"Ana\", 23, \"San Jose\", \"A\"),\n",
        "            (\"Esteban\", 22, \"Heredia\", \"B\"),\n",
        "            (\"Juan\", 22, \"Cartago\", \"A\"),\n",
        "            (\"Karla\", 22, \"Limon\", \"A\"),\n",
        "            (\"Eresto\", 21, \"Heredia\", \"B\")\n",
        "            ]\n",
        "\n",
        "df = pd.DataFrame(students, columns = [\"Nombre\", \"edad\", \"ciudad\", \"seccion\"])\n",
        "\n",
        "print(df)"
      ]
    },
    {
      "cell_type": "code",
      "source": [
        "print(\"Promedio de los elementos del vector\")\n",
        "Suma=0\n",
        "Media=0\n",
        "Temp =[]\n",
        "print(\"Ingrese la cantidad de temperaturas\")\n",
        "N = int(input())\n",
        "\n",
        "for i in range(N):\n",
        "  temperatura = float(input(\"Ingrese la temperatura\"))\n",
        "  Temp.append(temperatura)\n",
        "  Suma += Temp[i]\n",
        "Media = Suma/N\n",
        "print(Media)"
      ],
      "metadata": {
        "id": "FmsAXbRYYr7E"
      },
      "execution_count": null,
      "outputs": []
    },
    {
      "cell_type": "code",
      "source": [
        "import pandas as pd\n",
        "mascota = pd.DataFrame(\n",
        "    \n",
        "    data = {\n",
        "        \"name\":[\"Minimo\", \"Milo\", \"Snoppy\", \"Blanco\", \"LittlePony\"],\n",
        "        \"type\":[\"gato\", \"perro\", \"perro\", \"perro\", \"caballo\"]\n",
        "    },\n",
        "    index = [71,42,11,98,42]\n",
        ")\n",
        "\n",
        "visitas = pd.DataFrame(data = {\n",
        "    \"pet_id\":[71,42,11,98,42],\n",
        "    \"fecha\": [\"14-03-2020\", \"14-03-2023\", \"14-03-2010\" , \"14-03-2010\", \"14-03-2021\"],\n",
        "    \"costo\": [2000,2000,4000,5000,99000]\n",
        "})\n",
        "\n",
        "mascota.index.rename(\"pet_id\", inplace=True)\n",
        "visitas.index.rename(\"visit_id\", inplace=True)\n",
        "\n",
        "print(mascota.query(\"pet_id==71\"))\n",
        "print(visitas.query(\"pet_id==71\"))\n",
        "print(visitas[\"costo\"].sum())\n",
        "print(visitas[\"costo\"].min())\n",
        "print(visitas[\"costo\"].max())\n",
        "\n",
        "print(visitas)\n",
        "\n",
        "\n",
        "print(visitas.sort_values(by=\"costo\", ascending=False))\n",
        "\n",
        "tienda = pd.merge(mascota, visitas, how = \"cross\")\n",
        "print(tienda)"
      ],
      "metadata": {
        "id": "x7hzc5bMbafD"
      },
      "execution_count": null,
      "outputs": []
    }
  ]
}