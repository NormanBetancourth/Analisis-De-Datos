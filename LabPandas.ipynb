{
  "nbformat": 4,
  "nbformat_minor": 0,
  "metadata": {
    "colab": {
      "provenance": [],
      "include_colab_link": true
    },
    "kernelspec": {
      "name": "python3",
      "display_name": "Python 3"
    },
    "language_info": {
      "name": "python"
    }
  },
  "cells": [
    {
      "cell_type": "markdown",
      "metadata": {
        "id": "view-in-github",
        "colab_type": "text"
      },
      "source": [
        "<a href=\"https://colab.research.google.com/github/NormanBetancourth/Analisis-De-Datos/blob/main/LabPandas.ipynb\" target=\"_parent\"><img src=\"https://colab.research.google.com/assets/colab-badge.svg\" alt=\"Open In Colab\"/></a>"
      ]
    },
    {
      "cell_type": "code",
      "execution_count": null,
      "metadata": {
        "colab": {
          "base_uri": "https://localhost:8080/"
        },
        "id": "heaaDk64X2tc",
        "outputId": "1af3c81f-5d1f-4983-e9b7-c76751404c29"
      },
      "outputs": [
        {
          "output_type": "stream",
          "name": "stdout",
          "text": [
            "    Nombre  Edad    Ciudad Seccion\n",
            "0      Ana    23  San Jose       A\n",
            "1  Esteban    22   Heredia       B\n",
            "2     Juan    22     Limon       A\n",
            "3    Karla    22     Limon       A\n",
            "4  Ernesto    21   Heredia       B\n",
            "Ejercicio #3\n",
            "[(1, 'Edad'), (2, 'Edad'), (3, 'Edad')]\n",
            "Ejercicio #5\n",
            "[(1, 'Ciudad'), (4, 'Ciudad')]\n",
            "Index positions of 22 in Dataframe: \n",
            "Sale en el ejercicio #5 y #6\n"
          ]
        }
      ],
      "source": [
        "\n",
        "#1\n",
        "import pandas as pd\n",
        "students=[('Ana',23,'San Jose','A'),\n",
        "          ('Esteban',22,'Heredia','B'),\n",
        "          ('Juan',22,'Limon','A'),\n",
        "          ('Karla',22,'Limon','A'),\n",
        "          ('Ernesto',21,'Heredia','B'),\n",
        "          ]\n",
        "#2\n",
        "df=pd.DataFrame(students,columns=['Nombre','Edad','Ciudad','Seccion'])\n",
        "print(df)\n",
        "\n",
        "#4\n",
        "def getIndexes(dfObj,value):\n",
        "\n",
        "  listOfPos =[]\n",
        "  result =dfObj.isin([value])\n",
        "  seriesObj = result.any()\n",
        "  columnNames =list(seriesObj[seriesObj==True].index)\n",
        "\n",
        "  for col in columnNames:\n",
        "    rows=list(result[col][result[col]==True].index)\n",
        "\n",
        "    for row in rows:\n",
        "      listOfPos.append((row,col))\n",
        "  return listOfPos\n",
        "\n",
        "#3\n",
        "print(\"Ejercicio #3\")\n",
        "print(getIndexes(df, 22))\n",
        "\n",
        "\n",
        "\n",
        "#5 \n",
        "\n",
        "print(\"Ejercicio #5\")\n",
        "print(getIndexes(df, \"Heredia\"))\n",
        "\n",
        "#6\n",
        "listOfPositions =getIndexes(df,'')\n",
        "print('Index positions of 22 in Dataframe: ')\n",
        "for i in range(len(listOfPositions)) :\n",
        "  print(listOfPositions[i])\n",
        "\n",
        "\n",
        "#7\n",
        "print(\"Sale en el ejercicio #5 y #6\")\n",
        "\n",
        "#8\n",
        "# Se puede realizar una búsqueda por localización, ya que hay una columna en los \n",
        "# datos llamada localización que posee la dirección exacta del sismo\n",
        "# Por ejemplo, todos los sismos sucedidos en Heredia.\n",
        "\n",
        "#9\n",
        "#Maria Cruz Campos\n",
        "#Norman Betancourtt Mairena\n",
        "#Carlos Albornoz Rondon\n",
        "#Gianluca Gibellato Romero"
      ]
    },
    {
      "cell_type": "code",
      "source": [],
      "metadata": {
        "id": "pXV4Aj5qZOUL"
      },
      "execution_count": null,
      "outputs": []
    }
  ]
}