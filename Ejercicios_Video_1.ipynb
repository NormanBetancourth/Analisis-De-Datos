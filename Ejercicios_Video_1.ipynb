{
  "nbformat": 4,
  "nbformat_minor": 0,
  "metadata": {
    "colab": {
      "provenance": [],
      "authorship_tag": "ABX9TyOMzMSWmkaKm4CGxhWiL2yu",
      "include_colab_link": true
    },
    "kernelspec": {
      "name": "python3",
      "display_name": "Python 3"
    },
    "language_info": {
      "name": "python"
    }
  },
  "cells": [
    {
      "cell_type": "markdown",
      "metadata": {
        "id": "view-in-github",
        "colab_type": "text"
      },
      "source": [
        "<a href=\"https://colab.research.google.com/github/NormanBetancourth/Analisis-De-Datos/blob/main/Ejercicios_Video_1.ipynb\" target=\"_parent\"><img src=\"https://colab.research.google.com/assets/colab-badge.svg\" alt=\"Open In Colab\"/></a>"
      ]
    },
    {
      "cell_type": "code",
      "execution_count": null,
      "metadata": {
        "colab": {
          "base_uri": "https://localhost:8080/"
        },
        "id": "Fm2wicpQAVqi",
        "outputId": "24e755cc-d57e-43a0-b836-5fffd82380e7"
      },
      "outputs": [
        {
          "output_type": "stream",
          "name": "stdout",
          "text": [
            "Ejercicio Bisiesto\n",
            "Ingrese el año: 2012\n",
            "El año 2012 es bisiesto\n"
          ]
        }
      ],
      "source": [
        "print('Ejercicio Bisiesto')\n",
        "anio = int(input(\"Ingrese el año: \"))\n",
        "if (anio % 400 == 0) or (anio % 4 == 0) and (anio % 100 != 0):\n",
        "  print(f'El año {anio} es bisiesto')\n",
        "else:\n",
        "  print(f'El año {anio} NO es bisiesto')"
      ]
    },
    {
      "cell_type": "code",
      "source": [
        "print(f'Switch')\n",
        "switcher={1: \"Enero\",2: \"Febrero\",3: \"Marzo\",4: \"Abril\",5: \"Mayo\",6: \"Junio\", 7: \"Julio\",8: \"Agosto\",9: \"Septiembre\",10: \"Octubre\", 11: \"Noviembre\",12: \"Diciembre\"}\n",
        "argument = int(input(\"Ingrese un numero\"))\n",
        "nombreDeMes = switcher.get(argument, \"Mes invalido\")\n",
        "print(nombreDeMes)\n"
      ],
      "metadata": {
        "colab": {
          "base_uri": "https://localhost:8080/"
        },
        "id": "3ccdM8KXB00e",
        "outputId": "40a75add-90f3-4831-a4bb-fe874968a11f"
      },
      "execution_count": null,
      "outputs": [
        {
          "output_type": "stream",
          "name": "stdout",
          "text": [
            "Switch\n",
            "Ingrese un numero15\n",
            "Mes invalido\n"
          ]
        }
      ]
    },
    {
      "cell_type": "code",
      "source": [
        "C = -1 \n",
        "I = 0\n",
        "M = 0\n",
        "\n",
        "while( (C<0) or (I<=0) or (I>100) or (M <= 0) ):\n",
        "  print(\"Introduce el capital de tu interés y tiempo acpropiados\")\n",
        "  C = int(input(\"Capital: \"))\n",
        "  I = int(input(\"Interes: \"))\n",
        "  M = int(input(\"Años: \"))\n",
        "\n",
        "for i in range(M):\n",
        "  C = C * (1 + I / 100)\n",
        "  print(\"Monto \", C, \" Colones\")"
      ],
      "metadata": {
        "colab": {
          "base_uri": "https://localhost:8080/"
        },
        "id": "-DKJLWorCwAE",
        "outputId": "dc1446ea-2c7d-4269-93d9-3cb8fed180f9"
      },
      "execution_count": null,
      "outputs": [
        {
          "output_type": "stream",
          "name": "stdout",
          "text": [
            "Introduce el capital de tu interés y tiempo acpropiados\n",
            "Capital: 2000\n",
            "Interes: 10\n",
            "Años: 20\n",
            "Monto  2200.0  Colones\n",
            "Monto  2420.0  Colones\n",
            "Monto  2662.0  Colones\n",
            "Monto  2928.2000000000003  Colones\n",
            "Monto  3221.0200000000004  Colones\n",
            "Monto  3543.1220000000008  Colones\n",
            "Monto  3897.434200000001  Colones\n",
            "Monto  4287.177620000001  Colones\n",
            "Monto  4715.8953820000015  Colones\n",
            "Monto  5187.484920200002  Colones\n",
            "Monto  5706.233412220003  Colones\n",
            "Monto  6276.8567534420035  Colones\n",
            "Monto  6904.542428786204  Colones\n",
            "Monto  7594.996671664825  Colones\n",
            "Monto  8354.496338831308  Colones\n",
            "Monto  9189.94597271444  Colones\n",
            "Monto  10108.940569985885  Colones\n",
            "Monto  11119.834626984475  Colones\n",
            "Monto  12231.818089682924  Colones\n",
            "Monto  13454.999898651216  Colones\n"
          ]
        }
      ]
    },
    {
      "cell_type": "code",
      "source": [
        "#Divisores\n",
        "print(\"digite un numero\")\n",
        "numero = int(input(\"Numero\"))\n",
        "\n",
        "while(numero > 0):\n",
        "  Suma = 0\n",
        "  for i in range(1, numero+1):\n",
        "    if numero % i == 0 :\n",
        "      Suma += i\n",
        "  numero = int(input(\"Numero\"))\n",
        "\n",
        "print(Suma)\n"
      ],
      "metadata": {
        "colab": {
          "base_uri": "https://localhost:8080/"
        },
        "id": "UGz_HlN7EY9t",
        "outputId": "ea8a04c1-c151-4537-d273-7b88b598dcbd"
      },
      "execution_count": null,
      "outputs": [
        {
          "output_type": "stream",
          "name": "stdout",
          "text": [
            "digite un numero\n",
            "Numero10\n",
            "18\n"
          ]
        }
      ]
    },
    {
      "cell_type": "code",
      "source": [
        "#Ejercicio temperaturas\n",
        "temperaturas = [35,34,33,32,27,25,21]\n"
      ],
      "metadata": {
        "id": "LzWSpDDUFXP4"
      },
      "execution_count": null,
      "outputs": []
    }
  ]
}