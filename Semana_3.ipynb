{
  "nbformat": 4,
  "nbformat_minor": 0,
  "metadata": {
    "colab": {
      "provenance": [],
      "authorship_tag": "ABX9TyPIeuDY3CA1icjQ7nzKptia",
      "include_colab_link": true
    },
    "kernelspec": {
      "name": "python3",
      "display_name": "Python 3"
    },
    "language_info": {
      "name": "python"
    }
  },
  "cells": [
    {
      "cell_type": "markdown",
      "metadata": {
        "id": "view-in-github",
        "colab_type": "text"
      },
      "source": [
        "<a href=\"https://colab.research.google.com/github/NormanBetancourth/Analisis-De-Datos/blob/main/Semana_3.ipynb\" target=\"_parent\"><img src=\"https://colab.research.google.com/assets/colab-badge.svg\" alt=\"Open In Colab\"/></a>"
      ]
    },
    {
      "cell_type": "code",
      "execution_count": null,
      "metadata": {
        "colab": {
          "base_uri": "https://localhost:8080/"
        },
        "id": "MlpZ9jDd3Opf",
        "outputId": "50d38e18-8056-446e-c531-88b2c8b79d26"
      },
      "outputs": [
        {
          "output_type": "stream",
          "name": "stdout",
          "text": [
            "----------------------------------\n",
            "EJEMPLO: IMPRIMIR EL MENOR DE DOS NUMEROS\n",
            "----------------------------------\n",
            "ingrese 2 numero: \n",
            "primer numero: 5\n",
            "segundo numero numero: 7\n",
            "\n",
            "salida\n",
            "----------------------------------\n",
            "el menor es 5\n"
          ]
        }
      ],
      "source": [
        "print(\"----------------------------------\")\n",
        "print(\"EJEMPLO: IMPRIMIR EL MENOR DE DOS NUMEROS\")\n",
        "print(\"----------------------------------\")\n",
        "\n",
        "print(\"ingrese 2 numero: \")\n",
        "x = int(input(\"primer numero: \"))\n",
        "y = int(input(\"segundo numero numero: \"))\n",
        "\n",
        "print(\"\\nsalida\")\n",
        "print(\"----------------------------------\")\n",
        "if x > y:\n",
        "  print(f\"el menor es {y}\")\n",
        "else: \n",
        "  print(f\"el menor es {x}\")\n"
      ]
    },
    {
      "cell_type": "code",
      "source": [
        "switcher={1: \"Enero\",2: \"Febrero\",3: \"Marzo\",4: \"Abril\",5: \"Mayo\",6: \"Junio\", 7: \"Julio\",8: \"Agosto\",9: \"Septiembre\",10: \"Octubre\", 11: \"Noviembre\",12: \"Diciembre\"}\n",
        "\n",
        "argument=int( input(\"Ingrese el numero:\") )\n",
        "\n",
        "nombreDeMes=switcher.get(argument,\"Mes invalido\")\n",
        "\n",
        "print(nombreDeMes)"
      ],
      "metadata": {
        "id": "mmX5vOpw6X-P"
      },
      "execution_count": null,
      "outputs": []
    }
  ]
}