{
  "nbformat": 4,
  "nbformat_minor": 0,
  "metadata": {
    "colab": {
      "provenance": [],
      "authorship_tag": "ABX9TyPLs81TTA/WGklzma+KLTdn",
      "include_colab_link": true
    },
    "kernelspec": {
      "name": "python3",
      "display_name": "Python 3"
    },
    "language_info": {
      "name": "python"
    }
  },
  "cells": [
    {
      "cell_type": "markdown",
      "metadata": {
        "id": "view-in-github",
        "colab_type": "text"
      },
      "source": [
        "<a href=\"https://colab.research.google.com/github/NormanBetancourth/Analisis-De-Datos/blob/main/Laboratorio_1_Norman_Betancourtt_Mairena.ipynb\" target=\"_parent\"><img src=\"https://colab.research.google.com/assets/colab-badge.svg\" alt=\"Open In Colab\"/></a>"
      ]
    },
    {
      "cell_type": "code",
      "execution_count": null,
      "metadata": {
        "colab": {
          "base_uri": "https://localhost:8080/"
        },
        "id": "fO0hb2Z8HOiA",
        "outputId": "91d8a0e9-831c-4c86-ff1a-68269b4c93d2"
      },
      "outputs": [
        {
          "output_type": "stream",
          "name": "stdout",
          "text": [
            "Ejercicio 1 Calcular distancia\n",
            "ingrese la velocidad y el tiempo de la unidad movil\n",
            "Ingrese la velocidad9\n",
            "Ingrese el tiempo7\n",
            "La distancia es: 63.0\n"
          ]
        }
      ],
      "source": [
        "#Escriba un programa en Python que acepte el radio de un círculo y compute su área\n",
        "print(\"Ejercicio 1 Calcular distancia\")\n",
        "print(\"ingrese la velocidad y el tiempo de la unidad movil\")\n",
        "v = float(input(\"Ingrese la velocidad\"))\n",
        "t = float(input(\"Ingrese el tiempo\"))\n",
        "print(\"La distancia es: \" + str(v*t))\n",
        "\n"
      ]
    },
    {
      "cell_type": "code",
      "source": [
        "#solucion #2\n",
        "print(\"Ejercicio 2 promedio de notas\")\n",
        "nota1 = float(input(\"ingrese la nota 1\"))\n",
        "nota2 = int(input(\"ingrese la nota 2\"))\n",
        "nota3 = int(input(\"ingrese la nota 3\"))\n",
        "print(\"el promedio de las notas es: \"+ str((nota1 + nota2+ nota3)/3))"
      ],
      "metadata": {
        "id": "gzJI3LKEIsbk"
      },
      "execution_count": null,
      "outputs": []
    },
    {
      "cell_type": "code",
      "source": [
        "#Ejercicio #3\n",
        "RC = int(input(\"Ingrese la cantidad de respuestas correctas\")) # +3 pts\n",
        "RI = int(input(\"Ingrese la cantidad de respuestas incorrectas\")) # -1 pts\n",
        "RB = int(input(\"Ingrese la cantidad de respuestas en blanco\")) # 0  pts\n",
        "PF = RC * 3 + RI * -1\n",
        "print(f\"El numero de respuestas correctas es: {RC}\")\n",
        "print(f\"El numero de respuestas incorrectas es: {RI}\")\n",
        "print(f\"El numero de respuestas en blanco es: {RB}\")\n",
        "print(f\"El numero puntaje es: {PF}\")\n",
        "\n",
        "\n",
        "\n",
        "\n",
        "\n"
      ],
      "metadata": {
        "id": "GtDQMGVYLJq8",
        "colab": {
          "base_uri": "https://localhost:8080/"
        },
        "outputId": "08c810e2-2220-4908-9879-6ca2e71217b0"
      },
      "execution_count": null,
      "outputs": [
        {
          "output_type": "stream",
          "name": "stdout",
          "text": [
            "Ingrese la cantidad de respuestas correctas3\n",
            "Ingrese la cantidad de respuestas incorrectas2\n",
            "Ingrese la cantidad de respuestas en blanco5\n",
            "El numero de respuestas correctas es: 3\n",
            "El numero de respuestas incorrectas es: 2\n",
            "El numero de respuestas en blanco es: 5\n",
            "El numero puntaje es: 7\n"
          ]
        }
      ]
    }
  ]
}